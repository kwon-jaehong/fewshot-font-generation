{
 "cells": [
  {
   "cell_type": "code",
   "execution_count": 1,
   "metadata": {},
   "outputs": [],
   "source": [
    "import json\n",
    "import argparse\n",
    "import numpy as np\n",
    "\n",
    "import torch\n",
    "import torch.optim as optim\n",
    "import torch.backends.cudnn as cudnn\n",
    "import torch.distributed as dist\n",
    "import torch.multiprocessing as mp\n",
    "import torch.utils.data.distributed\n",
    "from torch.utils.data import DataLoader\n",
    "from torch.nn.parallel import DistributedDataParallel as DDP\n",
    "from torch.utils.data.distributed import DistributedSampler\n",
    "from torchvision import transforms\n",
    "\n",
    "from base.utils import Logger, TBDiskWriter, setup_train_config, load_decomposition, load_primals\n",
    "from base.modules import weights_init\n",
    "\n",
    "from LF.models import Generator, Discriminator, AuxClassifier\n",
    "from LF.phase1_dataset import LF1TrainDataset, LF1TestDataset\n",
    "from LF.phase1_trainer import LF1Trainer\n",
    "from LF.phase2_dataset import LF2TrainDataset, LF2TestDataset\n",
    "from LF.phase2_trainer import LF2Trainer\n",
    "\n",
    "\n",
    "TRANSFORM = transforms.Compose([\n",
    "    transforms.Resize((128, 128)),\n",
    "    transforms.ToTensor(),\n",
    "    transforms.Normalize([0.5], [0.5])\n",
    "])\n",
    "\n",
    "PHASE_DICT = {\n",
    "    1: (LF1TrainDataset, LF1TestDataset, LF1Trainer),\n",
    "    2: (LF2TrainDataset, LF2TestDataset, LF2Trainer),\n",
    "}\n",
    "\n"
   ]
  }
 ],
 "metadata": {
  "interpreter": {
   "hash": "1d55d3335eb288fc7a3982e93953789f2123700bb0edcab51ee53f4da0264440"
  },
  "kernelspec": {
   "display_name": "Python 3.7.5 ('env': venv)",
   "language": "python",
   "name": "python3"
  },
  "language_info": {
   "codemirror_mode": {
    "name": "ipython",
    "version": 3
   },
   "file_extension": ".py",
   "mimetype": "text/x-python",
   "name": "python",
   "nbconvert_exporter": "python",
   "pygments_lexer": "ipython3",
   "version": "3.7.5"
  },
  "orig_nbformat": 4
 },
 "nbformat": 4,
 "nbformat_minor": 2
}
