{
 "cells": [
  {
   "cell_type": "code",
   "execution_count": 8,
   "metadata": {},
   "outputs": [
    {
     "name": "stdout",
     "output_type": "stream",
     "text": [
      "1472\n"
     ]
    }
   ],
   "source": [
    "import json\n",
    "\n",
    "with open('data/kor/val_unseen_chars.json', 'r',encoding='utf-8') as f:\n",
    "    json_data = json.load(f)\n",
    "temp = json.dumps(json_data,indent=\"\\t\", ensure_ascii=False)\n",
    "print(len(temp))"
   ]
  },
  {
   "cell_type": "code",
   "execution_count": 11,
   "metadata": {},
   "outputs": [
    {
     "name": "stdout",
     "output_type": "stream",
     "text": [
      "13220\n"
     ]
    }
   ],
   "source": [
    "with open('data/kor/train_chars.json', 'r',encoding='utf-8') as f:\n",
    "    json_data = json.load(f)\n",
    "temp = json.dumps(json_data,indent=\"\\t\", ensure_ascii=False)\n",
    "print(len(temp))"
   ]
  },
  {
   "cell_type": "code",
   "execution_count": 12,
   "metadata": {},
   "outputs": [
    {
     "name": "stdout",
     "output_type": "stream",
     "text": [
      "13220\n"
     ]
    }
   ],
   "source": [
    "with open('data/kor/val_seen_chars.json', 'r',encoding='utf-8') as f:\n",
    "    json_data = json.load(f)\n",
    "temp = json.dumps(json_data,indent=\"\\t\", ensure_ascii=False)\n",
    "print(len(temp))"
   ]
  },
  {
   "cell_type": "code",
   "execution_count": 14,
   "metadata": {},
   "outputs": [
    {
     "name": "stdout",
     "output_type": "stream",
     "text": [
      "38 \"값같곬곶깎넋늪닫닭닻됩뗌략몃밟볘뺐뽈솩쐐앉않얘얾엌옳읊죡쮜춰츄퀭틔핀핥훟\"\n"
     ]
    }
   ],
   "source": [
    "with open('data/kor/ref_chars.json', 'r',encoding='utf-8') as f:\n",
    "    json_data = json.load(f)\n",
    "temp = json.dumps(json_data,indent=\"\\t\", ensure_ascii=False)\n",
    "print(len(temp),temp)"
   ]
  },
  {
   "cell_type": "code",
   "execution_count": 16,
   "metadata": {},
   "outputs": [
    {
     "name": "stdout",
     "output_type": "stream",
     "text": [
      "460014\n"
     ]
    }
   ],
   "source": [
    "with open('data/kor/decomposition.json', 'r',encoding='utf-8') as f:\n",
    "    json_data = json.load(f)\n",
    "temp = json.dumps(json_data,indent=\"\\t\", ensure_ascii=False)\n",
    "print(len(temp))"
   ]
  },
  {
   "cell_type": "code",
   "execution_count": 19,
   "metadata": {},
   "outputs": [
    {
     "name": "stdout",
     "output_type": "stream",
     "text": [
      "14690\n"
     ]
    }
   ],
   "source": [
    "with open('data/kor/eval_chars.json', 'r',encoding='utf-8') as f:\n",
    "    json_data = json.load(f)\n",
    "temp = json.dumps(json_data,indent=\"\\t\", ensure_ascii=False)\n",
    "print(len(temp))"
   ]
  },
  {
   "cell_type": "code",
   "execution_count": null,
   "metadata": {},
   "outputs": [],
   "source": []
  },
  {
   "cell_type": "code",
   "execution_count": null,
   "metadata": {},
   "outputs": [],
   "source": []
  },
  {
   "cell_type": "code",
   "execution_count": null,
   "metadata": {},
   "outputs": [],
   "source": []
  },
  {
   "cell_type": "code",
   "execution_count": null,
   "metadata": {},
   "outputs": [],
   "source": []
  }
 ],
 "metadata": {
  "interpreter": {
   "hash": "1d55d3335eb288fc7a3982e93953789f2123700bb0edcab51ee53f4da0264440"
  },
  "kernelspec": {
   "display_name": "Python 3.7.5 ('env': venv)",
   "language": "python",
   "name": "python3"
  },
  "language_info": {
   "codemirror_mode": {
    "name": "ipython",
    "version": 3
   },
   "file_extension": ".py",
   "mimetype": "text/x-python",
   "name": "python",
   "nbconvert_exporter": "python",
   "pygments_lexer": "ipython3",
   "version": "3.7.5"
  },
  "orig_nbformat": 4
 },
 "nbformat": 4,
 "nbformat_minor": 2
}
